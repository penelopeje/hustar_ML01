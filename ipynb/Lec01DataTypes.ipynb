{
 "cells": [
  {
   "cell_type": "markdown",
   "metadata": {},
   "source": [
    "# Welcome to \"CrushPython\"\n",
    "\n",
    "-------\n",
    "So tell them, 'As surely as I live, declares the LORD, I will do to you the very things I heard you say.' Numbers 14:28  \n"
   ]
  },
  {
   "cell_type": "markdown",
   "metadata": {},
   "source": [
    "__NOTE:__ The following materials have been adpated from the numerous sources including Python and Canopy web sites including my own. Please help me to keep this tutorial up-to-date by reporting any issues or questions. Send any comments or criticisms to `idebtor@gmail.com` Your assistances and comments will be appreciated.  "
   ]
  },
  {
   "cell_type": "markdown",
   "metadata": {},
   "source": [
    "------\n",
    "\n",
    "# Lesson - Data Types\n",
    "\n",
    "\n",
    "## Tips on IPython magics\n",
    "- Magics is a user-definable mini command language in IPython. Magics come in two kinds:\n",
    "    - __Line magics:__ prepended by one % character and whose arguments only extend to the end of the current line.\n",
    "    - __Cell magics:__ These use two percent characters as a marker (%%), and they receive as argument both the current line where they are declared and the whole body of the cell.\n",
    "    \n",
    "- You may use pwd, ls and cd to navigate your file systems and find a file since the Notebook dashboard displays only ~.ipynb files and folders.\n",
    "```\n",
    "    pwd\n",
    "    ls\n",
    "    cd ..\n",
    "    pwd\n",
    "    pushd\n",
    "    popd\n",
    "```\n",
    "__Note__: Automagic is ON, % prefix IS NOT needed for line magics.  \n",
    "__Recall__: `<Cntl+Enter>` executes the command in the current cell and stays there.\n",
    "\n",
    "- A text file can be loaded in a notebook cell with the magic command %load.\n",
    "```\n",
    "    %load filename.py\n",
    "```    \n",
    "- To save the cell content back into a file add the cell-magic `%%writefile filename.py` at the beginning of the cell and run it. Beware that if a file with the same name already exists it will be __silently overwritten__. For example:\n",
    "```\n",
    "    %%writefile foo.py\n",
    "    print('Hello World')\n",
    "```\n",
    "- To run the foo.py script file saved above:\n",
    "```\n",
    "    %run foo\n",
    "```\n",
    "- To list all available magics available: \n",
    "```\n",
    "    %lsmagic\n",
    "```\n",
    "- To see the help any the magic command add a `?`: like `%load?` or `%%writefile?`.\n",
    "- For general help on magic functions type \"%magic\" For a list of the available magic functions, use %lsmagic. For a description of any of them, type %magic_name?, e.g. '%cd?'.\n",
    "\n",
    "See also: [Magic functions](http://ipython.org/ipython-doc/dev/interactive/tutorial.html#magic-functions) from the official IPython docs.\n"
   ]
  },
  {
   "cell_type": "markdown",
   "metadata": {},
   "source": [
    "Use `%%writefile` to save the following code in `foo.py`."
   ]
  },
  {
   "cell_type": "code",
   "execution_count": null,
   "metadata": {},
   "outputs": [],
   "source": [
    "import matplotlib.pyplot as plt\n",
    "from matplotlib.image import imread\n",
    "\n",
    "img = imread('https://github.com/idebtor/KMOOC-ML/blob/master/ipynb/images/lenna.png?raw=true')\n",
    "plt.imshow(img)"
   ]
  },
  {
   "cell_type": "markdown",
   "metadata": {},
   "source": [
    "Use `%load` to load the code you saved in `foo.py`.\n",
    "    - Once you load the file, run the code in the cell twice. "
   ]
  },
  {
   "cell_type": "code",
   "execution_count": null,
   "metadata": {},
   "outputs": [],
   "source": [
    "\n",
    "\n"
   ]
  },
  {
   "cell_type": "markdown",
   "metadata": {},
   "source": [
    "# First things first\n",
    "\n",
    "----------\n",
    "\n",
    "## Hello World\n",
    "- `print()` function - prints a textual representation to the console\n",
    "- To represent a string, you may use a pair of single, double, or triple of double quations. Use a triple quote to have a multiple lines of comments. \n",
    "\n",
    "- For example\n",
    "    - 'Hello World' \n",
    "    - \"Hello World\"\n",
    "    - \"\"\"Hello World\"\"\"\n",
    "    - 'Hello \"Mr. Kim\"'"
   ]
  },
  {
   "cell_type": "code",
   "execution_count": null,
   "metadata": {},
   "outputs": [],
   "source": []
  },
  {
   "cell_type": "code",
   "execution_count": null,
   "metadata": {},
   "outputs": [],
   "source": []
  },
  {
   "cell_type": "code",
   "execution_count": null,
   "metadata": {},
   "outputs": [],
   "source": []
  },
  {
   "cell_type": "markdown",
   "metadata": {},
   "source": [
    "# Variables and Types\n",
    "-----------\n",
    "\n",
    "Let's take a look at the common numerical data types within Python.\n",
    "\n",
    "- int - integers: ..., -3, -2, -1, 0, 1, 2, 3, ...\n",
    "- float - floating point numbers, decimal point fractions: -3.1, 1.5, 1e-8, 3.141592e5\n",
    "- str - character strings, text: \"WhynotPython\", 'python'\n",
    "- bool - boolean values: True and False\n",
    "\n",
    "Integers\n",
    "--------\n",
    "\n",
    "The first of these is the integer type.  We can add integers, getting another integer as the result:"
   ]
  },
  {
   "cell_type": "code",
   "execution_count": null,
   "metadata": {},
   "outputs": [],
   "source": [
    "\n"
   ]
  },
  {
   "cell_type": "markdown",
   "metadata": {},
   "source": [
    "We can also assign an integer to a variable:"
   ]
  },
  {
   "cell_type": "code",
   "execution_count": null,
   "metadata": {},
   "outputs": [],
   "source": []
  },
  {
   "cell_type": "markdown",
   "metadata": {},
   "source": [
    "print() vs evaluate"
   ]
  },
  {
   "cell_type": "code",
   "execution_count": null,
   "metadata": {},
   "outputs": [],
   "source": []
  },
  {
   "cell_type": "markdown",
   "metadata": {},
   "source": [
    "We can ask the variable for its `type`, and see that it is `int`:"
   ]
  },
  {
   "cell_type": "code",
   "execution_count": null,
   "metadata": {},
   "outputs": [],
   "source": []
  },
  {
   "cell_type": "code",
   "execution_count": null,
   "metadata": {},
   "outputs": [],
   "source": [
    "                          # 2**8 * 2**8 = 2**16"
   ]
  },
  {
   "cell_type": "code",
   "execution_count": null,
   "metadata": {},
   "outputs": [],
   "source": [
    "                          # 2**32"
   ]
  },
  {
   "cell_type": "code",
   "execution_count": null,
   "metadata": {},
   "outputs": [],
   "source": [
    "                          # 2**64"
   ]
  },
  {
   "cell_type": "code",
   "execution_count": null,
   "metadata": {},
   "outputs": [],
   "source": [
    "                          # 2*132"
   ]
  },
  {
   "cell_type": "code",
   "execution_count": null,
   "metadata": {},
   "outputs": [],
   "source": [
    "                          # **1000"
   ]
  },
  {
   "cell_type": "markdown",
   "metadata": {},
   "source": [
    "__NOTE__: There is no longer a limit to the value of integers. "
   ]
  },
  {
   "cell_type": "markdown",
   "metadata": {},
   "source": [
    "Floating Point Numbers\n",
    "----------------------\n",
    "\n",
    "You can represent real numbers in Python as easily as integers.  For example, we could assign 1.4 to the variable `a`:"
   ]
  },
  {
   "cell_type": "code",
   "execution_count": null,
   "metadata": {},
   "outputs": [],
   "source": [
    "a = 1.4\n",
    "type(a)"
   ]
  },
  {
   "cell_type": "markdown",
   "metadata": {},
   "source": [
    "Notice that the type of `a` is now `float`:"
   ]
  },
  {
   "cell_type": "code",
   "execution_count": null,
   "metadata": {},
   "outputs": [],
   "source": [
    "a = 0.4\n",
    "if (a == 0.4):\n",
    "    print('yes, it is 0.4')\n",
    "else:\n",
    "    print('no, it is not 0.4')"
   ]
  },
  {
   "cell_type": "markdown",
   "metadata": {},
   "source": [
    "Let's do the same thing as done above but with `a = 1.4 - 1.0` and see what happens."
   ]
  },
  {
   "cell_type": "code",
   "execution_count": null,
   "metadata": {},
   "outputs": [],
   "source": [
    "# a = 1.4 - 1.0\n",
    "if (a == 0.4):\n",
    "    print('yes, it is 0.4')\n",
    "else:\n",
    "    print('no, it is not 0.4')"
   ]
  },
  {
   "cell_type": "markdown",
   "metadata": {},
   "source": [
    "Python's `float` data type follows the [IEEE 754 floating point standard](http://en.wikipedia.org/wiki/IEEE_floating_point), the same as C, Fortran, C# and just about every other programming language because that's what modern processors use to do math quickly. \n",
    "\n",
    "Floating-point real numbers can't be represented with exact precision due to hardware limitations. This can lead to cumbersome effects. See the [Python docs](https://docs.python.org/3.6/tutorial/floatingpoint.html) for the details.\n",
    "\n",
    "If we add our floating point number to 1.1, we get 1.2 as we expect:"
   ]
  },
  {
   "cell_type": "code",
   "execution_count": null,
   "metadata": {},
   "outputs": [],
   "source": [
    "a = 0.1 + 0.1 + 0.1\n",
    "a"
   ]
  },
  {
   "cell_type": "code",
   "execution_count": null,
   "metadata": {},
   "outputs": [],
   "source": [
    "a = 0.1 + 0.1 + 0.1\n",
    "print(a)"
   ]
  },
  {
   "cell_type": "code",
   "execution_count": null,
   "metadata": {},
   "outputs": [],
   "source": [
    "a = 0.3\n",
    "a"
   ]
  },
  {
   "cell_type": "markdown",
   "metadata": {},
   "source": [
    "And if we add 1.2 we get 2.6:"
   ]
  },
  {
   "cell_type": "code",
   "execution_count": null,
   "metadata": {},
   "outputs": [],
   "source": [
    "\n"
   ]
  },
  {
   "cell_type": "code",
   "execution_count": null,
   "metadata": {},
   "outputs": [],
   "source": []
  },
  {
   "cell_type": "markdown",
   "metadata": {},
   "source": [
    "Well, almost.  It's not quite 2.6.  If you look at the 16th decimal place it's slightly off.\n",
    "\n",
    "This can be disconcerting if you are unfamilliar with floating point math.  The reason for this is that to minimize memory usage and maximize performance, floating point numbers take the continuous number line and divide it in little chunks.  If your number doesn't quite line up with the chunks then there will be a small round-off error.\n",
    "\n",
    "For example, the value stored in `a` isn't 1.4, it's exactly  \n",
    "`1.399999999999999911182158029987476766109466552734375`"
   ]
  },
  {
   "cell_type": "code",
   "execution_count": null,
   "metadata": {},
   "outputs": [],
   "source": [
    "print('{:.52}'.format(a))"
   ]
  },
  {
   "cell_type": "markdown",
   "metadata": {},
   "source": [
    "These values are the same as double precision floating point numbers in C, which use 8 bytes, and the values are usually the same on 32 and 64 bit systems.\n",
    "\n",
    "There's no way to specify that you want to use a different level of precision with your floating point arithmetic in standard Python, but if you use NumPy you can specify that you want to use single precision floating point numbers if you want to save memory or don't have high precision values."
   ]
  },
  {
   "cell_type": "markdown",
   "metadata": {},
   "source": [
    "## Dynamically typed vs Strong typed \n",
    "\n",
    "Let's assign a value of a new type to the complex variable `a`. Then see what will happen. "
   ]
  },
  {
   "cell_type": "code",
   "execution_count": null,
   "metadata": {},
   "outputs": [],
   "source": [
    "a = 1.4\n",
    "type(a)\n",
    "\n",
    "\n"
   ]
  },
  {
   "cell_type": "markdown",
   "metadata": {},
   "source": [
    "Wow! The assignment works (different from C/C++, java) and the type of the variable `a` is _dynamically_ changed from complex to the new type - string. So, Python is called __a dynamically typed language__. \n",
    "\n",
    "Then will the following code work? "
   ]
  },
  {
   "cell_type": "code",
   "execution_count": null,
   "metadata": {},
   "outputs": [],
   "source": [
    "a = 'believe'\n",
    "b = 2\n",
    "c = 'see'\n",
    "#print(a + b + c)"
   ]
  },
  {
   "cell_type": "markdown",
   "metadata": {},
   "source": [
    "It did not work. \n",
    "Many operations in Python depend on their types. So, Python is called __a strongly typed language__\n",
    "\n",
    "To fix the problem, we need to convert the type of the variable `b` to string. A built-in function `str()` converts the int type into a str type."
   ]
  },
  {
   "cell_type": "code",
   "execution_count": null,
   "metadata": {},
   "outputs": [],
   "source": [
    "a = \"amen\"\n",
    "b = 2\n",
    "c = 'see'\n",
    "\n",
    "\n"
   ]
  },
  {
   "cell_type": "markdown",
   "metadata": {},
   "source": [
    "# More Interactive Calculation\n",
    "\n",
    "## Arithmetic Operations\n",
    "\n",
    "Let's use an example of a more involved numerical expression to get some familiarity with Python's operation syntax and order of operations."
   ]
  },
  {
   "cell_type": "markdown",
   "metadata": {},
   "source": [
    "* `1 - 2**3 * 4 - 56//7 + 89%98`"
   ]
  },
  {
   "cell_type": "markdown",
   "metadata": {},
   "source": [
    "Looking at this, most of the operations should be straightforward, but `**` in Python indicates exponentiation, and `%` is the modulo (or remainder) operation.\n",
    "\n",
    "Python's precedence order for operations is fairly standard (from highest to lowest):\n",
    "\n",
    "* `( )` (parenthesis grouping)\n",
    "* `**`  (exponentiation)\n",
    "* `*`   (multiplication), `/`(true division), `//`(integer division), `%`(modulo)\n",
    "* `+`, `-` (addition, subtraction)\n",
    "\n",
    "So walking through this expression, the exponentiation applys firs in a sub-expression `(2**3*4)`. "
   ]
  },
  {
   "cell_type": "code",
   "execution_count": null,
   "metadata": {},
   "outputs": [],
   "source": []
  },
  {
   "cell_type": "markdown",
   "metadata": {},
   "source": [
    "So we now have `1 - 8 * 4 - 56//7 + 89%98`.\n",
    "\n",
    "The next operations are multiplication, integer division // and modulo. Be caucious when there is a negative number in modulo operation. "
   ]
  },
  {
   "cell_type": "code",
   "execution_count": null,
   "metadata": {},
   "outputs": [],
   "source": [
    "1 - 8 * 4 - 56//7 +89 % 98"
   ]
  },
  {
   "cell_type": "markdown",
   "metadata": {},
   "source": [
    "and the expression simplifies to `1 - 32 + 8 + 89.`"
   ]
  },
  {
   "cell_type": "code",
   "execution_count": null,
   "metadata": {},
   "outputs": [],
   "source": [
    "print(1 - 32 - 8 + 89)\n",
    "print(1 - 2**3 * 4 - 56//7 + 89%98) "
   ]
  },
  {
   "cell_type": "markdown",
   "metadata": {},
   "source": [
    "## Simple Math Functions\n",
    "\n",
    "There are a number of simple math functions that are available in Python, and we'll show a few here to give you an idea.\n",
    "\n",
    "You can get the absolute value with `abs()`:"
   ]
  },
  {
   "cell_type": "code",
   "execution_count": null,
   "metadata": {},
   "outputs": [],
   "source": []
  },
  {
   "cell_type": "markdown",
   "metadata": {},
   "source": [
    "You can round a floating point number to the nearest whole number using `round()`:"
   ]
  },
  {
   "cell_type": "code",
   "execution_count": null,
   "metadata": {},
   "outputs": [],
   "source": []
  },
  {
   "cell_type": "markdown",
   "metadata": {},
   "source": [
    "And you can use `max` and `min` to compute minimum and maximum values from a collection of values:"
   ]
  },
  {
   "cell_type": "code",
   "execution_count": null,
   "metadata": {},
   "outputs": [],
   "source": []
  },
  {
   "cell_type": "markdown",
   "metadata": {},
   "source": [
    "This example is a little more involved, what's happening is that we have two parts.\n",
    "\n",
    "The first is the minimum of 10, -1, 4 and 3:"
   ]
  },
  {
   "cell_type": "code",
   "execution_count": null,
   "metadata": {},
   "outputs": [],
   "source": []
  },
  {
   "cell_type": "markdown",
   "metadata": {},
   "source": [
    "The second is the maximum of 0 and the result of the first part:"
   ]
  },
  {
   "cell_type": "code",
   "execution_count": null,
   "metadata": {},
   "outputs": [],
   "source": [
    "max(10, 20)"
   ]
  },
  {
   "cell_type": "markdown",
   "metadata": {},
   "source": [
    "which is 0, and that's the result.\n",
    "\n",
    "## Overwriting Functions (!)\n",
    "\n",
    "One thing that may be surprising if you have worked with other languages is that these functions can be overridden.  "
   ]
  },
  {
   "cell_type": "code",
   "execution_count": null,
   "metadata": {},
   "outputs": [],
   "source": [
    "max = 100"
   ]
  },
  {
   "cell_type": "code",
   "execution_count": null,
   "metadata": {},
   "outputs": [],
   "source": [
    "max(2, 5, 0, 4)                   #max(), min() are built-in functions"
   ]
  },
  {
   "cell_type": "markdown",
   "metadata": {},
   "source": [
    "The name `max`, for example, has nothing special about it---it's not a keyword---and the name can be bound to an integer or any other value:"
   ]
  },
  {
   "cell_type": "code",
   "execution_count": null,
   "metadata": {},
   "outputs": [],
   "source": []
  },
  {
   "cell_type": "markdown",
   "metadata": {},
   "source": [
    "So now we've done this `max` is an integer:"
   ]
  },
  {
   "cell_type": "code",
   "execution_count": null,
   "metadata": {},
   "outputs": [],
   "source": [
    "max(10, 20)"
   ]
  },
  {
   "cell_type": "markdown",
   "metadata": {},
   "source": [
    "and if we try to call `max(4, 5)` we'll get a type error:"
   ]
  },
  {
   "cell_type": "code",
   "execution_count": null,
   "metadata": {},
   "outputs": [],
   "source": []
  },
  {
   "cell_type": "markdown",
   "metadata": {},
   "source": [
    "because `max` is an integer now, not a function, and you can't call an integer.\n",
    "\n",
    "In this case we can remove the local definition of `max` that is masking the built-in function by using the `del` statement:"
   ]
  },
  {
   "cell_type": "code",
   "execution_count": null,
   "metadata": {},
   "outputs": [],
   "source": []
  },
  {
   "cell_type": "markdown",
   "metadata": {},
   "source": [
    "If we check now, we'll see that `max` is back to being a function:"
   ]
  },
  {
   "cell_type": "code",
   "execution_count": null,
   "metadata": {},
   "outputs": [],
   "source": []
  },
  {
   "cell_type": "markdown",
   "metadata": {},
   "source": [
    "## Type Conversion\n",
    "\n",
    "Use the functions int(), float(), str(), chr() and ord() to convert between types (we will talk about functions next time). Note that `ord` stands for ordinal(서수) which is the number representing the position of c in the sequence of Unicode codepoints. \n",
    "\n",
    "For example, if you have a floating point number and want to cast it to an integer, use the `int()` function:"
   ]
  },
  {
   "cell_type": "code",
   "execution_count": null,
   "metadata": {},
   "outputs": [],
   "source": [
    "a = int(-1.92345)\n",
    "type(a)\n",
    "print(a)"
   ]
  },
  {
   "cell_type": "markdown",
   "metadata": {},
   "source": [
    "which always __rounds towards 0.__\n",
    "\n",
    "If you have an integer and you want to create a float, you can cast it up using the `float()` function:"
   ]
  },
  {
   "cell_type": "code",
   "execution_count": null,
   "metadata": {},
   "outputs": [],
   "source": []
  },
  {
   "cell_type": "markdown",
   "metadata": {},
   "source": [
    "If you add an integer to a floating point number, or a floating point number to a complex number, Python always gives you the result as the widest type, so int plus float gives you float:"
   ]
  },
  {
   "cell_type": "code",
   "execution_count": null,
   "metadata": {},
   "outputs": [],
   "source": []
  },
  {
   "cell_type": "markdown",
   "metadata": {},
   "source": [
    "ord('a') vs chr(97) "
   ]
  },
  {
   "cell_type": "code",
   "execution_count": null,
   "metadata": {},
   "outputs": [],
   "source": []
  },
  {
   "cell_type": "code",
   "execution_count": null,
   "metadata": {},
   "outputs": [],
   "source": []
  },
  {
   "cell_type": "markdown",
   "metadata": {},
   "source": []
  },
  {
   "cell_type": "markdown",
   "metadata": {},
   "source": [
    "#### Example:\n",
    "\n",
    "Write a code that accepts an age from user and display the result as shown below. You may need to use `int()` and `input()`. \n",
    "\n",
    "```\n",
    "What is your age?\n",
    "7\n",
    "Your age becomes 8 tomorrow. \n",
    "```"
   ]
  },
  {
   "cell_type": "code",
   "execution_count": null,
   "metadata": {},
   "outputs": [],
   "source": [
    "\n"
   ]
  },
  {
   "cell_type": "markdown",
   "metadata": {},
   "source": [
    "## In-Place Operations\n",
    "\n",
    "In place versions of the standard arithmetic operations are possible using `+=`, `-=`, and so forth.  So for example:"
   ]
  },
  {
   "cell_type": "code",
   "execution_count": null,
   "metadata": {},
   "outputs": [],
   "source": [
    "b = 5\n",
    "b += 0.5            # b = b + 0.5\n",
    "b = b + 0.5\n",
    "b"
   ]
  },
  {
   "cell_type": "markdown",
   "metadata": {},
   "source": [
    "## Boolean Data Type\n",
    "\n",
    "Python has a boolean data type, which has two values, `True` and `False`.  So we could set:"
   ]
  },
  {
   "cell_type": "code",
   "execution_count": null,
   "metadata": {},
   "outputs": [],
   "source": [
    "a = 3 > 4\n",
    "a"
   ]
  },
  {
   "cell_type": "markdown",
   "metadata": {},
   "source": [
    "and see that the type of `q` is now `bool`:"
   ]
  },
  {
   "cell_type": "code",
   "execution_count": null,
   "metadata": {},
   "outputs": [],
   "source": [
    "q = 5 > 10\n",
    "p = 5 < 10\n",
    "\n",
    "if (q == True):\n",
    "    print('q is true')\n"
   ]
  },
  {
   "cell_type": "code",
   "execution_count": null,
   "metadata": {},
   "outputs": [],
   "source": [
    "if (q):\n",
    "    print('q is true')"
   ]
  },
  {
   "cell_type": "code",
   "execution_count": null,
   "metadata": {},
   "outputs": [],
   "source": [
    "a = 1 > 2\n",
    "b = 3 > 2"
   ]
  },
  {
   "cell_type": "markdown",
   "metadata": {},
   "source": [
    "Boolean values are most often created using expressions.  For example `1 < 0` is false, so if we do:"
   ]
  },
  {
   "cell_type": "code",
   "execution_count": null,
   "metadata": {},
   "outputs": [],
   "source": [
    "q = 1 < 0\n",
    "q"
   ]
  },
  {
   "cell_type": "markdown",
   "metadata": {},
   "source": [
    "we see that `q` gets the value `False` as you might hope.\n",
    "\n",
    "## Comparison Operators\n",
    "Python's comparison operators are quite standard: `<`, `>`, `<=`, `>=`, `==` and `!=`.  So for example:"
   ]
  },
  {
   "cell_type": "code",
   "execution_count": null,
   "metadata": {},
   "outputs": [],
   "source": [
    "s = 1 > 2\n",
    "type(s)"
   ]
  },
  {
   "cell_type": "code",
   "execution_count": null,
   "metadata": {},
   "outputs": [],
   "source": []
  },
  {
   "cell_type": "code",
   "execution_count": null,
   "metadata": {},
   "outputs": [],
   "source": []
  },
  {
   "cell_type": "markdown",
   "metadata": {},
   "source": [
    "One really slick feature of Python's comparisons are chained comparisons:"
   ]
  },
  {
   "cell_type": "code",
   "execution_count": null,
   "metadata": {},
   "outputs": [],
   "source": []
  },
  {
   "cell_type": "markdown",
   "metadata": {},
   "source": [
    "Effectively Python treats this expression as if it were:"
   ]
  },
  {
   "cell_type": "code",
   "execution_count": null,
   "metadata": {},
   "outputs": [],
   "source": []
  },
  {
   "cell_type": "markdown",
   "metadata": {},
   "source": [
    "## Logical Operations\n",
    "\n",
    "Comparisons can be combined using the logical operators `and`, `or` and `not`.  So for example:\n",
    "\n"
   ]
  },
  {
   "cell_type": "code",
   "execution_count": null,
   "metadata": {},
   "outputs": [],
   "source": [
    "5 < 10 and 10 < 20"
   ]
  },
  {
   "cell_type": "code",
   "execution_count": null,
   "metadata": {},
   "outputs": [],
   "source": [
    "5 < 10 or 10 < 20"
   ]
  },
  {
   "cell_type": "code",
   "execution_count": null,
   "metadata": {},
   "outputs": [],
   "source": [
    "5 < 10 or 10 > 20"
   ]
  },
  {
   "cell_type": "markdown",
   "metadata": {},
   "source": [
    "Python uses [\"short-circuit\" evaluation](http://en.wikipedia.org/wiki/Short-circuit_evaluation) of logical expressions if the value of subsequent terms can't affect the result.  So for example, in the expression:"
   ]
  },
  {
   "cell_type": "markdown",
   "metadata": {},
   "source": [
    "#### Example:\n",
    "\n",
    "What you expect from the following logical expression?\n",
    "\n",
    "1 > 4 and 5 < xx\n",
    "\n",
    "1. Name error\n",
    "2. Type error\n",
    "- True \n",
    "- False"
   ]
  },
  {
   "cell_type": "code",
   "execution_count": null,
   "metadata": {},
   "outputs": [],
   "source": []
  },
  {
   "cell_type": "code",
   "execution_count": null,
   "metadata": {},
   "outputs": [],
   "source": [
    "1 > 4 or 5 < xx"
   ]
  },
  {
   "cell_type": "markdown",
   "metadata": {},
   "source": [
    "since the first operand is `False`:"
   ]
  },
  {
   "cell_type": "code",
   "execution_count": null,
   "metadata": {},
   "outputs": [],
   "source": []
  },
  {
   "cell_type": "markdown",
   "metadata": {},
   "source": [
    "there is no way that the full expression could ever evalute to `True` and so Python skips the evaluation of the second operand, and returns `False` straight away.\n",
    "\n",
    "Python's `or` operator works in a similar way:"
   ]
  },
  {
   "cell_type": "code",
   "execution_count": null,
   "metadata": {},
   "outputs": [],
   "source": []
  },
  {
   "cell_type": "markdown",
   "metadata": {},
   "source": [
    "and it will short-circuit evaluation if the first operand is `True`:"
   ]
  },
  {
   "cell_type": "code",
   "execution_count": null,
   "metadata": {},
   "outputs": [],
   "source": []
  },
  {
   "cell_type": "markdown",
   "metadata": {},
   "source": [
    "And finally, the `not` operation inverts the value of the argument:"
   ]
  },
  {
   "cell_type": "code",
   "execution_count": null,
   "metadata": {},
   "outputs": [],
   "source": []
  },
  {
   "cell_type": "markdown",
   "metadata": {},
   "source": [
    "### Quiz\n",
    "Write a logical expression which evaluates an age to be true if the age is a teenage. The teenage means between 13 and 19 inclusively."
   ]
  },
  {
   "cell_type": "code",
   "execution_count": null,
   "metadata": {},
   "outputs": [],
   "source": [
    "age = 15\n",
    "# write a logical expression below to determine whether or not age is teen.\n",
    "\n"
   ]
  },
  {
   "cell_type": "markdown",
   "metadata": {},
   "source": [
    "### is_teen(age) function\n",
    "Replace `None` in `is_teen()` function with the logic expression you developed above."
   ]
  },
  {
   "cell_type": "code",
   "execution_count": null,
   "metadata": {},
   "outputs": [],
   "source": [
    "def is_teen(age):\n",
    "    return None"
   ]
  },
  {
   "cell_type": "code",
   "execution_count": null,
   "metadata": {},
   "outputs": [],
   "source": [
    "# test is_teen() \n",
    "for age in [9, 10, 11, 12, 15, 19, 20, 21]:\n",
    "    None"
   ]
  },
  {
   "cell_type": "code",
   "execution_count": null,
   "metadata": {},
   "outputs": [],
   "source": [
    "for age in range(21):\n",
    "    if (is_teen(age)): \n",
    "        print('The age', age, 'is a teen age')"
   ]
  },
  {
   "cell_type": "markdown",
   "metadata": {},
   "source": [
    "## Example: Leap year\n",
    "\n",
    "A leap year is exactly divisible by 4 except for century years (years ending with 00). The century year is a leap year only if it is perfectly divisible by 400. For example,\n",
    "\n",
    "```\n",
    "2017 is not a leap year\n",
    "1900 is a not leap year\n",
    "2012 is a leap year\n",
    "2000 is a leap year\n",
    "```"
   ]
  },
  {
   "cell_type": "code",
   "execution_count": null,
   "metadata": {},
   "outputs": [],
   "source": [
    "# Python program to check if the input year is a leap year or not\n",
    "\n",
    "year = 2000\n",
    "\n",
    "# To get year (integer input) from the user\n",
    "# year = int(input(\"Enter a year: \"))\n",
    "\n",
    "if (year % 4) == 0:\n",
    "   if (year % 100) == 0:\n",
    "       if (year % 400) == 0:\n",
    "           print(\"{0} is a leap year\".format(year))\n",
    "       else:\n",
    "           print(\"{0} is not a leap year\".format(year))\n",
    "   else:\n",
    "       print(\"{0} is a leap year\".format(year))\n",
    "else:\n",
    "   print(\"{0} is not a leap year\".format(year))\n"
   ]
  },
  {
   "cell_type": "markdown",
   "metadata": {},
   "source": [
    "### Quiz\n",
    "Complete the following leap_year() function that returns `True` if `year` is a leap year, `False` otherwise. "
   ]
  },
  {
   "cell_type": "code",
   "execution_count": null,
   "metadata": {},
   "outputs": [],
   "source": [
    "def leap_year(year):\n",
    "    return None"
   ]
  },
  {
   "cell_type": "markdown",
   "metadata": {},
   "source": [
    "Complete the code such that it produces the following output.\n",
    "```\n",
    "100 is not a leap year\n",
    "200 is not a leap year\n",
    "1990 is not a leap year\n",
    "2000 is a leap year\n",
    "2002 is not a leap year\n",
    "2004 is a leap year\n",
    "2010 is not a leap year\n",
    "2100 is not a leap year\n",
    "```"
   ]
  },
  {
   "cell_type": "code",
   "execution_count": null,
   "metadata": {},
   "outputs": [],
   "source": [
    "# test leap_year()\n",
    "for year in [100, 200, 1990, 2000, 2002, 2004, 2010, 2100]:\n",
    "    None"
   ]
  },
  {
   "cell_type": "markdown",
   "metadata": {},
   "source": [
    "------------------\n",
    "\n",
    "# Excercise \n",
    "\n",
    "## 1. Given an integer number, print its last digit.\n",
    "\n",
    "Print the last digit of a which is an integer.\n",
    "For example, print 5 if 35, 6 if 6, 9 if 5679. \n",
    "\n",
    "#### Using mod % operator"
   ]
  },
  {
   "cell_type": "code",
   "execution_count": null,
   "metadata": {},
   "outputs": [],
   "source": [
    "# Read an integer:\n",
    "a = int(input(\"Enter aninteger number: \"))\n",
    "print(type(a))\n",
    "\n",
    "# using mod % operator\n",
    "\n",
    "print(None)"
   ]
  },
  {
   "cell_type": "markdown",
   "metadata": {},
   "source": [
    "#### Using len() and indexing "
   ]
  },
  {
   "cell_type": "code",
   "execution_count": null,
   "metadata": {},
   "outputs": [],
   "source": [
    "# Read an integer as a string\n",
    "s = input(\"Enter aninteger number: \")\n",
    "print(type(s))\n",
    "\n",
    "# using len() and indexing \n",
    "\n",
    "print(None)"
   ]
  },
  {
   "cell_type": "markdown",
   "metadata": {},
   "source": [
    "#### Using indexing "
   ]
  },
  {
   "cell_type": "code",
   "execution_count": null,
   "metadata": {},
   "outputs": [],
   "source": [
    "# Read an integer as a string\n",
    "s = input(\"Enter aninteger number: \")\n",
    "print(type(s))\n",
    "\n",
    "# using indexing \n",
    "print(None)"
   ]
  },
  {
   "cell_type": "markdown",
   "metadata": {},
   "source": [
    "## 2. Given a three-digit number. Find the sum of its digits.\n",
    "\n",
    "Print the sum of three-digit number which is an integer.\n",
    "For example, print 8 if 35, 6 if 6, 18 if 567. \n",
    "\n",
    "#### Using % (mod operator) and // (integer division)"
   ]
  },
  {
   "cell_type": "code",
   "execution_count": null,
   "metadata": {},
   "outputs": [],
   "source": [
    "# Read an integer:\n",
    "a = int(input(\"3 digit number:\"))\n",
    "\n",
    "# for example, print 6 if a is 123, 18 if a is 369. \n",
    "# assume that a is a three digit number.\n",
    "\n",
    "x = None                 # get 100's \n",
    "y = None                 # get 10's\n",
    "z = None                 # get 1's\n",
    "\n",
    "print (x + y + z)"
   ]
  },
  {
   "cell_type": "markdown",
   "metadata": {},
   "source": [
    "__Sum all digits for any number of digits and using str() and for loop__"
   ]
  },
  {
   "cell_type": "code",
   "execution_count": null,
   "metadata": {},
   "outputs": [],
   "source": [
    "# Read an integer as a string:\n",
    "s = input(\"Enter an int number: \")\n",
    "\n",
    "# for example, print 6 if a is 123, 18 if a is 369. \n",
    "sum = 0\n",
    "None\n",
    "    \n",
    "print(sum)"
   ]
  },
  {
   "cell_type": "markdown",
   "metadata": {},
   "source": [
    "__Challenge:__ Do it for any number of digits and using while loop"
   ]
  },
  {
   "cell_type": "code",
   "execution_count": null,
   "metadata": {},
   "outputs": [],
   "source": [
    "# Read an integer:\n",
    "n = int(input(\"Enter an int number: \"))\n",
    "# for example, print 6 if a is 123, 18 if a is 369. \n",
    "\n",
    "sum = 0\n",
    "while n:\n",
    "    None\n",
    "    \n",
    "print(sum)"
   ]
  },
  {
   "cell_type": "markdown",
   "metadata": {},
   "source": [
    "## 3. Clock displays military time\n",
    "\n",
    "The integer N given is the number of minutes that is passed since midnight. Display the hour and minute in military time. The program should print two numbers: the number of hours (between 0 and 23) and the number of minutes (between 0 and 59). For example, if N = 150, then 150 minutes have passed since midnight - i.e. now is 2:30 am. So the program should print 2:30."
   ]
  },
  {
   "cell_type": "code",
   "execution_count": null,
   "metadata": {},
   "outputs": [],
   "source": [
    "# Read an integer:\n",
    "a = int(input())\n",
    "print(a)\n",
    "# print 3:0 for 180, 7:24 for 444, 18:31 for 1111, 23:59 for 1439 \n"
   ]
  },
  {
   "cell_type": "markdown",
   "metadata": {},
   "source": [
    "## 4. Minimum of two numbers\n",
    "Given two integers, print the smaller value. Don't use __min()__ function.\n"
   ]
  },
  {
   "cell_type": "code",
   "execution_count": null,
   "metadata": {},
   "outputs": [],
   "source": [
    "# Read an integer:\n",
    "a = int(input('a:'))\n",
    "b = int(input('b:'))\n"
   ]
  },
  {
   "cell_type": "markdown",
   "metadata": {},
   "source": [
    "## 5. Sign function\n",
    "\n",
    "For the given integer x, print 1 if it's positive, -1 if it's negative, or 0 if it's equal to zero.\n",
    "Try to use the cascade `if-elif-else` for it."
   ]
  },
  {
   "cell_type": "code",
   "execution_count": null,
   "metadata": {},
   "outputs": [],
   "source": [
    "# Read an integer:\n",
    "x = int(input())\n"
   ]
  },
  {
   "cell_type": "markdown",
   "metadata": {},
   "source": [
    "## 6. Equal numbers\n",
    "\n",
    "Given three integers, determine how many of them are equal to each other. The program must print one of these numbers: 3 (if all are the same), 2 (if two of them are equal to each other and the third is different) or 0 (if all numbers are different)."
   ]
  },
  {
   "cell_type": "code",
   "execution_count": null,
   "metadata": {},
   "outputs": [],
   "source": [
    "# Read an integer:\n",
    "x = int(input(\"x:\"))\n",
    "y = int(input(\"y:\"))\n",
    "z = int(input(\"z:\"))"
   ]
  },
  {
   "cell_type": "markdown",
   "metadata": {},
   "source": [
    "--------\n",
    "__The LORD bless you and keep you.__ Numbers 6:24"
   ]
  }
 ],
 "metadata": {
  "kernelspec": {
   "display_name": "Python 3",
   "language": "python",
   "name": "python3"
  },
  "language_info": {
   "codemirror_mode": {
    "name": "ipython",
    "version": 3
   },
   "file_extension": ".py",
   "mimetype": "text/x-python",
   "name": "python",
   "nbconvert_exporter": "python",
   "pygments_lexer": "ipython3",
   "version": "3.7.3"
  }
 },
 "nbformat": 4,
 "nbformat_minor": 1
}
