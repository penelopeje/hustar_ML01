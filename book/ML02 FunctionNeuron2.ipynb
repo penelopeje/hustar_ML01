{
 "cells": [
  {
   "cell_type": "markdown",
   "metadata": {},
   "source": [
    "# Machine Learning For Everyone\n",
    "Lecture notes for HuStar Project by idebtor@gmail.com \n",
    "**************"
   ]
  },
  {
   "cell_type": "markdown",
   "metadata": {},
   "source": [
    "# 제 2 강: 함수와 뉴론$^{Function \\ and \\ Neuron}$ (2/2)\n",
    "\n",
    "## 학습 목표\n",
    "\n",
    "- 함수와 뉴론을 이해한다.\n",
    "- 인공뉴론과 인공신경망을 이해한다. \n",
    "- 첫 인공뉴론을 구현한다. \n",
    "\n",
    "## 학습 내용\n",
    "\n",
    "- 함수와 뉴론\n",
    "- 인공뉴론과 인공신경망\n",
    "- 인공뉴론의 구현"
   ]
  },
  {
   "cell_type": "markdown",
   "metadata": {},
   "source": [
    "## 인공뉴론의 구현\n",
    "자 이제 본격적으로 인공뉴론을 구현해보도록 하겠습니다 \n",
    "\n",
    "다시 묻는 질문이지만, 인공뉴론을 만든다는 것은 무슨 말이죠?  함수로 같은 기능을 만들면 되는 것입니다.  마일($1\\ mile$)을 킬로미터($1.61\\ Km$)로 변환하는 함수를 뉴론으로 부르는 것입니다.  뉴론은 다음과 같이 원으로 표시하고 곱셈을 하는 뉴론이라고 가정합니다. $f_x$의 의미는 함수 $f$가 $x$를 매개변수(혹은 독립변수)로 가지고 있다는 뜻입니다.  간략히, 함수 $f$ 는 $x$의 함수라고 말합니다. "
   ]
  },
  {
   "cell_type": "markdown",
   "metadata": {},
   "source": [
    "<img src=\"https://github.com/idebtor/KMOOC-ML/blob/master/ipynb/images/mile2km.png?raw=true\" width=\"300\">\n",
    "<center>그림 1: 마일을 킬로미터로 변환하는 함수</center>"
   ]
  },
  {
   "cell_type": "markdown",
   "metadata": {},
   "source": [
    "\"별로 인상적이 않네...\"라고 여러분은 생각할지도 모릅니다. 그러나 괜찮습니다. 좀 더 흥미로운 개념의 기계학습으로 발전할 것이니까요.  잠시 후 여러분이 경험할 기계학습의 핵심인 신경망을 사용하기 전에, 지금은 간단한 예제를 사용한 것 뿐입니다. "
   ]
  },
  {
   "cell_type": "markdown",
   "metadata": {},
   "source": [
    "파이썬에서 함수를 구현할 때, 함수 이름으로 $f$를 사용하는 것보다 함수의 기능을 알 수 있는 이름을 사용하는 것이 바람직 합니다. 그러면, 함수 이름을 `mileToKm`로 정하여 함수를 구현하고, 함수를 몇 번 호출해보도록 하겠습니다.  한 가지 더 해볼 것은 함수를 여러 번 호출한 결과들을 시각화하는 코딩을 해보겠습니다.  "
   ]
  },
  {
   "cell_type": "markdown",
   "metadata": {},
   "source": [
    "## 1. 거리 단위 변환 함수와 시각화 함수\n",
    "\n",
    "파이썬 함수로 인공뉴론을 구현합니다. `mileToKm()`라는 뉴론을 구현하고, 함수 `plotMileToKm()`은 인공뉴론의 결과를 시각화하는데 도움이 되는 함수입니다. 시각화를 위해서 `matplotlib.pyplot` 라이브러리를 import하며, 또한 결과를 쥬피터 노트북 셀 안에 그리기 위하여 `%matplotlib inline` 명령을 실행합니다. \n",
    "\n",
    "- mileToKm(x) -- 입력 x 마일을 킬로미터로 변환한 값을 반환함. x의 값은 scalar 혹은 numpy 배열이 가능하나, list형식은 가능하지 않음.\n",
    "- plotMileToKm(x, y) -- x, y의 값들에 대한 그래프를 출력함. x, y의 값은 list 형식 혹은 numpy 배열이 가능함. `fontsize`는 옵션입니다. "
   ]
  },
  {
   "cell_type": "code",
   "execution_count": 1,
   "metadata": {},
   "outputs": [],
   "source": [
    "import matplotlib.pyplot as plt  \n",
    "%matplotlib inline\n",
    "\n",
    "def mileToKm(x):\n",
    "    \"\"\" x 마일을 Km로 변환하여 반환\"\"\"\n",
    "    return 1.61 * x\n",
    "\n",
    "def plotMileToKm(x, y):\n",
    "    \"\"\" x, y의 값들을 그래프로 출력 \"\"\"\n",
    "    plt.figure()  \n",
    "    plt.plot(x, y)  \n",
    "    plt.title('Mile to Km')\n",
    "    plt.xlabel('Mile')\n",
    "    plt.ylabel('Km')\n",
    "    plt.show()"
   ]
  },
  {
   "cell_type": "markdown",
   "metadata": {},
   "source": [
    "## 2. 함수 호출\n",
    "\n",
    "- 입력 변수를 정하고, 초기화 합니다.  `myMile=2, urMile=3` \n",
    "- 입력 변수로 `mileToKm()` 함수를 호출하고, 반환값을 `myKm, urKm` 에 각각 저장합니다. \n",
    "- 반환받은 값들을 출력합니다. "
   ]
  },
  {
   "cell_type": "code",
   "execution_count": 2,
   "metadata": {},
   "outputs": [
    {
     "name": "stdout",
     "output_type": "stream",
     "text": [
      "2 Miles are 3.22 Km\n"
     ]
    }
   ],
   "source": [
    "myMile = 2\n",
    "myKm = mileToKm(myMile)\n",
    "print(myMile, 'Miles are', myKm, 'Km')"
   ]
  },
  {
   "cell_type": "code",
   "execution_count": 3,
   "metadata": {},
   "outputs": [
    {
     "name": "stdout",
     "output_type": "stream",
     "text": [
      "3 Miles are 4.83 Km\n"
     ]
    }
   ],
   "source": [
    "urMile = 3\n",
    "urKm = mileToKm(urMile)\n",
    "print(urMile, 'Miles are', urKm, 'Km')"
   ]
  },
  {
   "cell_type": "markdown",
   "metadata": {},
   "source": [
    "## 3. for 루프를 사용한 함수 호출\n",
    "\n",
    "함수를 여러 번 호출하기 위하여 `for` 루프를 사용합니다. 여러 `x` 값들, 즉 `x = 0, 1, 2, 3, 4` 의 경우들을 차례로 입력하고, 결과를 출력하는 코딩입니다. \n",
    "\n",
    "새로운 방식으로 `print()`를 사용해보았습니다. `print`구문에서 `{}.format` 형식을 사용하면, 코딩이 좀 길어지긴 하지만, 읽기 쉬운 출력문을 작성할 수 있는 장점이 있습니다. 여러 항목을 출력할 때 사용하면 유익합니다. "
   ]
  },
  {
   "cell_type": "code",
   "execution_count": 4,
   "metadata": {},
   "outputs": [
    {
     "name": "stdout",
     "output_type": "stream",
     "text": [
      "0mi:0.0km\n",
      "1mi:1.61km\n",
      "2mi:3.22km\n",
      "3mi:4.83km\n",
      "4mi:6.44km\n"
     ]
    }
   ],
   "source": [
    "for mile in range(0, 5):\n",
    "    print('{}mi:{}km'.\n",
    "          format(mile, mileToKm(mile)))"
   ]
  },
  {
   "cell_type": "markdown",
   "metadata": {},
   "source": [
    "## 4. 함수 결과의 시각화\n",
    "\n",
    "다른 분야와 마찬가지로 기계학습에서도 함수나 함수의 결과를 시각화하는 것은 중요한 부분입니다.  다음은 입력 `x = 0, 1, 2, 3, 4` 마일에 대한 킬로미터 값을 시각화한 것입니다. \n",
    "\n",
    "`x, y`의 값이 하나(scalar)가 아니고 괄호 `[ ]`안에 나열되어 있습니다. 이를 `list` 형식$^{type}$이라고 부릅니다.   이러한 `list` 형식을 `plot(x, y)`함수가 받아서 다음과 같이 시각화를 할 수 있습니다.  "
   ]
  },
  {
   "cell_type": "code",
   "execution_count": 5,
   "metadata": {
    "scrolled": false
   },
   "outputs": [
    {
     "data": {
      "image/png": "[encoded data removed]",
      "text/plain": [
       "<Figure size 432x288 with 1 Axes>"
      ]
     },
     "metadata": {
      "needs_background": "light"
     },
     "output_type": "display_data"
    }
   ],
   "source": [
    "x = [0, 1, 2, 3, 4]\n",
    "y = [0, 1.61, 3.22, 4.83, 6.44] \n",
    "plotMileToKm(x, y)"
   ]
  },
  {
   "cell_type": "markdown",
   "metadata": {},
   "source": [
    "#### 데이터 포인트 시각화\n",
    "직선 대신 우리가 명시한 점(데이터 포인트)들을 표시하려면, `plot()`함수에 인자를 더하면 됩니다. \n",
    "\n",
    "함수 `plotMileToKm()` 안에서 `plot()`함수의 세 번째 인자에, \n",
    "\n",
    "- `ob`를 추가하고 그 셀을 실행한 후, 다음 셀을 실행하면, 파란 동그란 점들이 출력이 되고, <br>\n",
    "`plt.plot(x, y, 'ob')`   \n",
    "- `-sr`을 추가하고 그 셀을 실행한 후, 다음 셀을 실행하면, 빨간 네모난 점들과 선이 연결되어 출력이 됩니다.  <br>\n",
    "`plt.plot(x, y, '-sr')` \n",
    "\n",
    "<table><tr>\n",
    "    <td><img src=\"https://github.com/idebtor/KMOOC-ML/blob/master/ipynb/images/mileToKm_ob.png?raw=true\" width=\"400\"> </td> \n",
    "    <td><img src=\"https://github.com/idebtor/KMOOC-ML/blob/master/ipynb/images/mileToKm_ob2.png?raw=true\" width=\"400\"/></td> \n",
    "</tr></table>\n",
    "<center>그림 2: mileToKm 함수 시각화 결과(ob, -sr) </center>\n",
    "\n",
    "\n",
    "`ob`는 동그란 모양(o)의 파란색(blue) 표시$^{marker}$를 의미합니다. 여러 모양 `(v, ^, <, >, ., s, p, x)`과 색`(b, c, m, r, y, k)`을 나타낼 수 있으니, 여기를 [참조(모양)](https://matplotlib.org/api/markers_api.html), [참조(색)](https://matplotlib.org/api/colors_api.html)하십시오. \n"
   ]
  },
  {
   "cell_type": "code",
   "execution_count": 6,
   "metadata": {
    "scrolled": true
   },
   "outputs": [
    {
     "data": {
      "image/png": "[encoded data removed]",
      "text/plain": [
       "<Figure size 432x288 with 1 Axes>"
      ]
     },
     "metadata": {
      "needs_background": "light"
     },
     "output_type": "display_data"
    }
   ],
   "source": [
    "plotMileToKm(x, y)"
   ]
  },
  {
   "cell_type": "markdown",
   "metadata": {},
   "source": [
    "## 5. list 형식$^{type}$ 데이터 만들기\n",
    "\n",
    "앞에서 우리는 `x, y`값들을 하나씩 계산하고, 또한 `list` 형식으로 만들어서 시각화를 했습니다. \n",
    "`x = [0, 1, 2, 3, 4]`\n",
    "`y = [0, 1.61, 3.22, 4.83, 6.44]`\n",
    "이러한 `list`를 좀 더 쉽게 만들 수 있는 방법이 있습니다. \n",
    "\n",
    "x 와 같이 일정한 패턴으로 진행되는 일련의 수를 `list`로 만들기 위해서는 아래 두 함수 중에 하나를 이용합니다. \n",
    "\n",
    "- range(start, end, step) -- start에서 end 까지 step 간격으로 숫자를 발생함(end는 포함하지 않음).  step을 생략하면, 기본값은 step = 1.\n",
    "- linspace(start, end, npoints) -- start에서 end 까지 npoints의 숫자를 발생함(end는 포함하지 않음)\n",
    "\n",
    "### 5.1 for 루프 사용하기\n",
    "\n",
    "`y`값을 `list` 형식으로 구하려면 `for` 루프 혹은 `list comprehension`이라는 파이썬 기능을 활용하면 좋습니다. \n",
    "\n",
    "- `for` 루프에서 `y`를 사용하기 전에 초기화해야 합니다. \n",
    "- append()는 y와 같은 list 형식의 자료에 사용할 수 있는 list클래스의 메소드(함수)입니다. "
   ]
  },
  {
   "cell_type": "code",
   "execution_count": 6,
   "metadata": {},
   "outputs": [
    {
     "name": "stdout",
     "output_type": "stream",
     "text": [
      "[0.0, 1.61, 3.22, 4.83, 6.44]\n"
     ]
    }
   ],
   "source": [
    "y = []\n",
    "for mile in range(0, 5):\n",
    "    y.append(mileToKm(mile))\n",
    "print(y)"
   ]
  },
  {
   "cell_type": "markdown",
   "metadata": {},
   "source": [
    "### 5.2 리스트 컴프리헨션$^{list \\ comprehension}$ 사용하기"
   ]
  },
  {
   "cell_type": "markdown",
   "metadata": {},
   "source": [
    "리스트 컴프리헨션은 리스트를 만드는 짧고 간결한 방법입니다\n",
    "\n",
    "다음 구문은 위의 for 루프 구문을 __리스트 컴프리헨션__ 으로 변환한 것입니다.  \n",
    "\n",
    "`y = [ mileToKm(mile) for mile in range(0, 5) ]`\n",
    "\n",
    "`for` 루프 부분은 같습니다. 다만, `for` 루프처럼 실행하면서, `mile` 변수로 `mileToKm(mile)`을 호출합니다. 그리고 그 결과는 자동으로 list 안에 차례대로 저장 됩니다. \n",
    "한 줄로 `for` 루프를 처리하는 것이 신기하죠?  많이 쓸모가 있을 것 같습니다. "
   ]
  },
  {
   "cell_type": "code",
   "execution_count": 7,
   "metadata": {},
   "outputs": [
    {
     "name": "stdout",
     "output_type": "stream",
     "text": [
      "[0.0, 1.61, 3.22, 4.83, 6.44]\n"
     ]
    }
   ],
   "source": [
    "y = [ mileToKm(mile) for mile in range(0, 5) ]\n",
    "print(y)"
   ]
  },
  {
   "cell_type": "markdown",
   "metadata": {},
   "source": [
    "## 6. NumPy$^{넘파이}$의 함수 호출\n",
    "\n",
    "이제 넘파이를 활용해 보도록 하겠습니다. \n",
    "넘파이를 사용하려면, `numpy` 모듈을 `import`해야 합니다. `numpy`를 줄여서 `np`로 코딩하기 위하여 `import`할 때, `as np`를 붙여서 `import`합니다. 아니면, `numpy`함수를 호출할 때마다 `numpy.`를 사용해야 합니다. \n",
    "\n",
    "`import numpy as np`\n",
    "\n",
    "리스트 형식의 x값을 numpy로 변환할 수 있고, 아니면 새로 만들 수도 있습니다. \n",
    "\n",
    "`x = [0, 1, 2, 3, 4, 5]`\n",
    "\n",
    "아래에서 `x`는 `list`형식이고, `xn`은 넘파이 배열 형식입니다. 두 형식을 각각 출력하면 모양이 약간 다른 것에 유의하길 바랍니다. "
   ]
  },
  {
   "cell_type": "code",
   "execution_count": 8,
   "metadata": {},
   "outputs": [
    {
     "name": "stdout",
     "output_type": "stream",
     "text": [
      "[0, 1, 2, 3, 4]\n",
      "[0 1 2 3 4]\n",
      "[0 1 2 3 4]\n"
     ]
    }
   ],
   "source": [
    "import numpy as np\n",
    "\n",
    "x = [0, 1, 2, 3, 4]       # list type\n",
    "print(x)\n",
    "\n",
    "xn = np.array(x)          # numpy array type\n",
    "print(xn)\n",
    "\n",
    "xn = np.array(np.arange(0, 5))   # newly generated xn\n",
    "print(xn)"
   ]
  },
  {
   "cell_type": "markdown",
   "metadata": {},
   "source": [
    "## 7. NumPy 배열의 이점\n",
    "\n",
    "자, `x` 값이 넘파이 배열로 준비되었다면, `y`값을 어떻게 구할 수 있나요? \n",
    "\n",
    "`for` 루프 혹은 리스트 컴프리헨션으로 구할 수 있습니다. 그러나, 아주 간편한 방법이 있습니다. 넘파일 배열 x를 그대로 `mileToKm(x)`로 호출하는 것입니다. \n",
    "\n",
    "그러면, 그 함수는 넘파이 배열에 나열된 순서대로 하나씩 계산해서 넘파이 배열 형식으로 반환합니다. 와우~~ 놀랍죠?\n",
    "\n",
    "코딩해서 테스트 해볼까요?"
   ]
  },
  {
   "cell_type": "code",
   "execution_count": 10,
   "metadata": {},
   "outputs": [
    {
     "name": "stdout",
     "output_type": "stream",
     "text": [
      "[0 1 2 3 4]\n",
      "[0.   1.61 3.22 4.83 6.44]\n"
     ]
    },
    {
     "data": {
      "image/png": "[encoded data removed]",
      "text/plain": [
       "<Figure size 432x288 with 1 Axes>"
      ]
     },
     "metadata": {
      "needs_background": "light"
     },
     "output_type": "display_data"
    }
   ],
   "source": [
    "x = np.arange(0, 5)                 # x -- numpy array\n",
    "y = mileToKm(x)                     # y -- numpy array\n",
    "print(x)\n",
    "print(y)\n",
    "plotMileToKm(x, y)                  # pass x, y numpy array"
   ]
  },
  {
   "cell_type": "markdown",
   "metadata": {},
   "source": [
    "코딩이 좀 복잡한가요?  그래도, 이번 코딩을 꼭 연습해 보길 바랍니다.  \n",
    "\n",
    "코딩은 강의를 듣거나 보거나, 묵상하거나 토론해서 배울 수 없습니다. \n",
    "코딩을 배우는 방법은 손코딩이 최고입니다. \n",
    "코딩을 하지 않고 기계학습을 배우는 방법은 없습니다. "
   ]
  },
  {
   "cell_type": "code",
   "execution_count": 9,
   "metadata": {},
   "outputs": [
    {
     "data": {
      "text/plain": [
       "[14.0, 32.0, 50.0, 68.0, 86.0, 104.0, 122.0, 140.0, 158.0, 176.0, 194.0, 212.0]"
      ]
     },
     "execution_count": 9,
     "metadata": {},
     "output_type": "execute_result"
    }
   ],
   "source": [
    "f = [9/5 * c + 32 for c in range(-10, 101, 10)]\n",
    "f"
   ]
  },
  {
   "cell_type": "markdown",
   "metadata": {},
   "source": [
    "### 참고자료\n",
    "- CS231n Convolutional Neural Networks for Visual Recognition, [Python Numpy Tutorial](http://cs231n.github.io/python-numpy-tutorial/), Stanford University\n",
    "- [Python For Data Science Cheat Sheet NumPy Basics](https://s3.amazonaws.com/assets.datacamp.com/blog_assets/Numpy_Python_Cheat_Sheet.pdf), DataCamp\n",
    "- Python Numpy Tutorial - http://cs231n.github.io/\n",
    "- 김태완 블로그: [파이썬 데이터 사이언스 Cheat Sheet](http://taewan.kim/post/numpy_cheat_sheet/)\n"
   ]
  },
  {
   "cell_type": "markdown",
   "metadata": {},
   "source": [
    "## 학습 정리\n",
    "- 함수와 뉴론의 이해\n",
    "- 인공뉴론과 인공신경망의 이해  \n",
    "- 첫 인공뉴론의 구현\n",
    "\n",
    "----------------"
   ]
  },
  {
   "cell_type": "code",
   "execution_count": null,
   "metadata": {},
   "outputs": [],
   "source": []
  }
 ],
 "metadata": {
  "kernelspec": {
   "display_name": "Python 3",
   "language": "python",
   "name": "python3"
  },
  "language_info": {
   "codemirror_mode": {
    "name": "ipython",
    "version": 3
   },
   "file_extension": ".py",
   "mimetype": "text/x-python",
   "name": "python",
   "nbconvert_exporter": "python",
   "pygments_lexer": "ipython3",
   "version": "3.7.0"
  }
 },
 "nbformat": 4,
 "nbformat_minor": 2
}
